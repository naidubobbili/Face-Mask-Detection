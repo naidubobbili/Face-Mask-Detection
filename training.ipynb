{
 "cells": [
  {
   "cell_type": "code",
   "execution_count": 1,
   "id": "9492878d",
   "metadata": {},
   "outputs": [
    {
     "name": "stderr",
     "output_type": "stream",
     "text": [
      "C:\\ProgramData\\Anaconda3\\lib\\site-packages\\scipy\\__init__.py:146: UserWarning: A NumPy version >=1.16.5 and <1.23.0 is required for this version of SciPy (detected version 1.25.1\n",
      "  warnings.warn(f\"A NumPy version >={np_minversion} and <{np_maxversion}\"\n"
     ]
    }
   ],
   "source": [
    "import keras\n",
    "from keras.models import Sequential\n",
    "from keras.layers import Conv2D,Flatten,Dense,MaxPooling2D,Dropout\n",
    "from sklearn.metrics import accuracy_score"
   ]
  },
  {
   "cell_type": "code",
   "execution_count": 2,
   "id": "6f5edd4d",
   "metadata": {},
   "outputs": [],
   "source": [
    "import os\n",
    "import numpy as np"
   ]
  },
  {
   "cell_type": "code",
   "execution_count": 3,
   "id": "5365f9a6",
   "metadata": {},
   "outputs": [],
   "source": [
    "import ipywidgets as widgets\n",
    "import io\n",
    "from PIL import Image\n",
    "import tqdm\n",
    "from sklearn.model_selection import train_test_split\n",
    "import cv2\n",
    "from sklearn.utils import shuffle\n",
    "import tensorflow as tf"
   ]
  },
  {
   "cell_type": "code",
   "execution_count": 4,
   "id": "7f1ad431",
   "metadata": {},
   "outputs": [],
   "source": [
    "X_train = []\n",
    "Y_train = []\n",
    "image_size = 150\n",
    "labels = ['Mask','No Mask']\n",
    "for i in labels:\n",
    "    folderPath = os.path.join('train',i)\n",
    "    for j in os.listdir(folderPath):\n",
    "        img = cv2.imread(os.path.join(folderPath,j))\n",
    "        img = cv2.resize(img,(image_size,image_size))\n",
    "        X_train.append(img)\n",
    "        Y_train.append(i)\n",
    "        \n",
    "for i in labels:\n",
    "    folderPath = os.path.join('test',i)\n",
    "    for j in os.listdir(folderPath):\n",
    "        img = cv2.imread(os.path.join(folderPath,j))\n",
    "        img = cv2.resize(img,(image_size,image_size))\n",
    "        X_train.append(img)\n",
    "        Y_train.append(i)\n",
    "\n",
    "X_train = np.array(X_train)\n",
    "Y_train = np.array(Y_train)"
   ]
  },
  {
   "cell_type": "code",
   "execution_count": 5,
   "id": "452c83e8",
   "metadata": {},
   "outputs": [
    {
     "data": {
      "text/plain": [
       "(1508, 150, 150, 3)"
      ]
     },
     "execution_count": 5,
     "metadata": {},
     "output_type": "execute_result"
    }
   ],
   "source": [
    "X_train,Y_train = shuffle(X_train,Y_train,random_state=101)\n",
    "X_train.shape"
   ]
  },
  {
   "cell_type": "code",
   "execution_count": 6,
   "id": "054e0a83",
   "metadata": {},
   "outputs": [],
   "source": [
    "X_train,X_test,y_train,y_test = train_test_split(X_train,Y_train,test_size=0.1,random_state=101)"
   ]
  },
  {
   "cell_type": "code",
   "execution_count": 7,
   "id": "7dbc64f9",
   "metadata": {},
   "outputs": [],
   "source": [
    "y_train_new = []\n",
    "for i in y_train:\n",
    "    y_train_new.append(labels.index(i))\n",
    "y_train=y_train_new\n",
    "y_train = tf.keras.utils.to_categorical(y_train)\n",
    "\n",
    "y_test_new = []\n",
    "for i in y_test:\n",
    "    y_test_new.append(labels.index(i))\n",
    "y_test=y_test_new\n",
    "y_test = tf.keras.utils.to_categorical(y_test)"
   ]
  },
  {
   "cell_type": "code",
   "execution_count": 10,
   "id": "c7f46079",
   "metadata": {},
   "outputs": [],
   "source": [
    "model = Sequential()\n",
    "model.add(Conv2D(32,(3,3),activation = 'relu',input_shape=(150,150,3)))\n",
    "model.add(Conv2D(64,(3,3),activation='relu'))\n",
    "model.add(MaxPooling2D(2,2))\n",
    "model.add(Dropout(0.3))\n",
    "model.add(Conv2D(64,(3,3),activation='relu'))\n",
    "model.add(Conv2D(64,(3,3),activation='relu'))\n",
    "model.add(Dropout(0.3))\n",
    "model.add(MaxPooling2D(2,2))\n",
    "model.add(Dropout(0.3))\n",
    "model.add(Conv2D(128,(3,3),activation='relu'))\n",
    "model.add(Conv2D(128,(3,3),activation='relu'))\n",
    "model.add(Conv2D(128,(3,3),activation='relu'))\n",
    "model.add(MaxPooling2D(2,2))\n",
    "model.add(Dropout(0.3))\n",
    "model.add(Conv2D(128,(3,3),activation='relu'))\n",
    "model.add(Conv2D(256,(3,3),activation='relu'))\n",
    "model.add(MaxPooling2D(2,2))\n",
    "model.add(Dropout(0.3))\n",
    "model.add(Flatten())\n",
    "model.add(Dense(512,activation = 'relu'))\n",
    "model.add(Dense(512,activation = 'relu'))\n",
    "model.add(Dropout(0.3))\n",
    "model.add(Dense(2,activation='sigmoid'))"
   ]
  },
  {
   "cell_type": "code",
   "execution_count": 11,
   "id": "746f1849",
   "metadata": {},
   "outputs": [
    {
     "name": "stdout",
     "output_type": "stream",
     "text": [
      "Model: \"sequential_1\"\n",
      "_________________________________________________________________\n",
      " Layer (type)                Output Shape              Param #   \n",
      "=================================================================\n",
      " conv2d_9 (Conv2D)           (None, 148, 148, 32)      896       \n",
      "                                                                 \n",
      " conv2d_10 (Conv2D)          (None, 146, 146, 64)      18496     \n",
      "                                                                 \n",
      " max_pooling2d_4 (MaxPooling  (None, 73, 73, 64)       0         \n",
      " 2D)                                                             \n",
      "                                                                 \n",
      " dropout_6 (Dropout)         (None, 73, 73, 64)        0         \n",
      "                                                                 \n",
      " conv2d_11 (Conv2D)          (None, 71, 71, 64)        36928     \n",
      "                                                                 \n",
      " conv2d_12 (Conv2D)          (None, 69, 69, 64)        36928     \n",
      "                                                                 \n",
      " dropout_7 (Dropout)         (None, 69, 69, 64)        0         \n",
      "                                                                 \n",
      " max_pooling2d_5 (MaxPooling  (None, 34, 34, 64)       0         \n",
      " 2D)                                                             \n",
      "                                                                 \n",
      " dropout_8 (Dropout)         (None, 34, 34, 64)        0         \n",
      "                                                                 \n",
      " conv2d_13 (Conv2D)          (None, 32, 32, 128)       73856     \n",
      "                                                                 \n",
      " conv2d_14 (Conv2D)          (None, 30, 30, 128)       147584    \n",
      "                                                                 \n",
      " conv2d_15 (Conv2D)          (None, 28, 28, 128)       147584    \n",
      "                                                                 \n",
      " max_pooling2d_6 (MaxPooling  (None, 14, 14, 128)      0         \n",
      " 2D)                                                             \n",
      "                                                                 \n",
      " dropout_9 (Dropout)         (None, 14, 14, 128)       0         \n",
      "                                                                 \n",
      " conv2d_16 (Conv2D)          (None, 12, 12, 128)       147584    \n",
      "                                                                 \n",
      " conv2d_17 (Conv2D)          (None, 10, 10, 256)       295168    \n",
      "                                                                 \n",
      " max_pooling2d_7 (MaxPooling  (None, 5, 5, 256)        0         \n",
      " 2D)                                                             \n",
      "                                                                 \n",
      " dropout_10 (Dropout)        (None, 5, 5, 256)         0         \n",
      "                                                                 \n",
      " flatten_1 (Flatten)         (None, 6400)              0         \n",
      "                                                                 \n",
      " dense_3 (Dense)             (None, 512)               3277312   \n",
      "                                                                 \n",
      " dense_4 (Dense)             (None, 512)               262656    \n",
      "                                                                 \n",
      " dropout_11 (Dropout)        (None, 512)               0         \n",
      "                                                                 \n",
      " dense_5 (Dense)             (None, 2)                 1026      \n",
      "                                                                 \n",
      "=================================================================\n",
      "Total params: 4,446,018\n",
      "Trainable params: 4,446,018\n",
      "Non-trainable params: 0\n",
      "_________________________________________________________________\n"
     ]
    }
   ],
   "source": [
    "model.summary()"
   ]
  },
  {
   "cell_type": "code",
   "execution_count": 12,
   "id": "86a07011",
   "metadata": {},
   "outputs": [],
   "source": [
    "model.compile(loss='binary_crossentropy',optimizer='Adam',metrics=['accuracy'])"
   ]
  },
  {
   "cell_type": "code",
   "execution_count": 13,
   "id": "39ab5a6d",
   "metadata": {},
   "outputs": [
    {
     "name": "stdout",
     "output_type": "stream",
     "text": [
      "Epoch 1/20\n",
      "39/39 [==============================] - 171s 4s/step - loss: 2.7623 - accuracy: 0.5618 - val_loss: 0.5678 - val_accuracy: 0.9412\n",
      "Epoch 2/20\n",
      "39/39 [==============================] - 168s 4s/step - loss: 0.4476 - accuracy: 0.8681 - val_loss: 0.2571 - val_accuracy: 0.9191\n",
      "Epoch 3/20\n",
      "39/39 [==============================] - 167s 4s/step - loss: 0.2014 - accuracy: 0.9419 - val_loss: 0.1753 - val_accuracy: 0.9265\n",
      "Epoch 4/20\n",
      "39/39 [==============================] - 167s 4s/step - loss: 0.1169 - accuracy: 0.9590 - val_loss: 0.1352 - val_accuracy: 0.9632\n",
      "Epoch 5/20\n",
      "39/39 [==============================] - 167s 4s/step - loss: 0.1065 - accuracy: 0.9705 - val_loss: 0.2449 - val_accuracy: 0.9412\n",
      "Epoch 6/20\n",
      "39/39 [==============================] - 172s 4s/step - loss: 0.0817 - accuracy: 0.9730 - val_loss: 1.8308 - val_accuracy: 0.5074\n",
      "Epoch 7/20\n",
      "39/39 [==============================] - 173s 4s/step - loss: 0.5262 - accuracy: 0.7551 - val_loss: 0.3193 - val_accuracy: 0.9044\n",
      "Epoch 8/20\n",
      "39/39 [==============================] - 172s 4s/step - loss: 0.2444 - accuracy: 0.9156 - val_loss: 0.1601 - val_accuracy: 0.9412\n",
      "Epoch 9/20\n",
      "39/39 [==============================] - 171s 4s/step - loss: 0.1563 - accuracy: 0.9394 - val_loss: 0.1234 - val_accuracy: 0.9853\n",
      "Epoch 10/20\n",
      "39/39 [==============================] - 173s 4s/step - loss: 0.0780 - accuracy: 0.9730 - val_loss: 0.0796 - val_accuracy: 0.9779\n",
      "Epoch 11/20\n",
      "39/39 [==============================] - 172s 4s/step - loss: 0.0743 - accuracy: 0.9803 - val_loss: 0.0944 - val_accuracy: 0.9779\n",
      "Epoch 12/20\n",
      "39/39 [==============================] - 173s 4s/step - loss: 0.0933 - accuracy: 0.9681 - val_loss: 0.1477 - val_accuracy: 0.9779\n",
      "Epoch 13/20\n",
      "39/39 [==============================] - 175s 4s/step - loss: 0.0668 - accuracy: 0.9762 - val_loss: 0.1356 - val_accuracy: 0.9926\n",
      "Epoch 14/20\n",
      "39/39 [==============================] - 177s 5s/step - loss: 0.2081 - accuracy: 0.9247 - val_loss: 0.1330 - val_accuracy: 0.9632\n",
      "Epoch 15/20\n",
      "39/39 [==============================] - 175s 4s/step - loss: 0.0483 - accuracy: 0.9836 - val_loss: 0.0646 - val_accuracy: 0.9926\n",
      "Epoch 16/20\n",
      "39/39 [==============================] - 179s 5s/step - loss: 0.0676 - accuracy: 0.9738 - val_loss: 0.1396 - val_accuracy: 0.9559\n",
      "Epoch 17/20\n",
      "39/39 [==============================] - 178s 5s/step - loss: 0.0875 - accuracy: 0.9722 - val_loss: 0.1091 - val_accuracy: 0.9485\n",
      "Epoch 18/20\n",
      "39/39 [==============================] - 177s 5s/step - loss: 0.0757 - accuracy: 0.9771 - val_loss: 0.0764 - val_accuracy: 0.9853\n",
      "Epoch 19/20\n",
      "39/39 [==============================] - 177s 5s/step - loss: 0.0358 - accuracy: 0.9877 - val_loss: 0.0934 - val_accuracy: 0.9926\n",
      "Epoch 20/20\n",
      "39/39 [==============================] - 178s 5s/step - loss: 0.0347 - accuracy: 0.9836 - val_loss: 0.0787 - val_accuracy: 0.9853\n"
     ]
    }
   ],
   "source": [
    "history = model.fit(X_train,y_train,epochs=20,validation_split=0.1)"
   ]
  },
  {
   "cell_type": "code",
   "execution_count": 14,
   "id": "007efdb0",
   "metadata": {},
   "outputs": [],
   "source": [
    "model.save('maskmodel.h5')"
   ]
  },
  {
   "cell_type": "code",
   "execution_count": 15,
   "id": "ba3a651e",
   "metadata": {},
   "outputs": [],
   "source": [
    "import matplotlib.pyplot as plt\n",
    "import seaborn as sns"
   ]
  },
  {
   "cell_type": "code",
   "execution_count": 16,
   "id": "ae696d58",
   "metadata": {},
   "outputs": [
    {
     "data": {
      "image/png": "[encoded data removed]",
      "text/plain": [
       "<Figure size 1008x504 with 1 Axes>"
      ]
     },
     "metadata": {
      "needs_background": "light"
     },
     "output_type": "display_data"
    }
   ],
   "source": [
    "acc = history.history['accuracy']\n",
    "val_acc = history.history['val_accuracy']\n",
    "epochs = range(len(acc))\n",
    "fig = plt.figure(figsize=(14,7))\n",
    "plt.plot(epochs,acc,'r',label=\"Training Accuracy\")\n",
    "plt.plot(epochs,val_acc,'b',label=\"Validation Accuracy\")\n",
    "plt.legend(loc='upper left')\n",
    "plt.show()"
   ]
  },
  {
   "cell_type": "code",
   "execution_count": 17,
   "id": "265a01ba",
   "metadata": {},
   "outputs": [
    {
     "data": {
      "image/png": "[encoded data removed]",
      "text/plain": [
       "<Figure size 1008x504 with 1 Axes>"
      ]
     },
     "metadata": {
      "needs_background": "light"
     },
     "output_type": "display_data"
    }
   ],
   "source": [
    "loss = history.history['loss']\n",
    "val_loss = history.history['val_loss']\n",
    "epochs = range(len(loss))\n",
    "fig = plt.figure(figsize=(14,7))\n",
    "plt.plot(epochs,loss,'r',label=\"Training loss\")\n",
    "plt.plot(epochs,val_loss,'b',label=\"Validation loss\")\n",
    "plt.legend(loc='upper left')\n",
    "plt.show()\n"
   ]
  },
  {
   "cell_type": "code",
   "execution_count": null,
   "id": "065fdce9",
   "metadata": {},
   "outputs": [],
   "source": []
  }
 ],
 "metadata": {
  "kernelspec": {
   "display_name": "Python 3 (ipykernel)",
   "language": "python",
   "name": "python3"
  },
  "language_info": {
   "codemirror_mode": {
    "name": "ipython",
    "version": 3
   },
   "file_extension": ".py",
   "mimetype": "text/x-python",
   "name": "python",
   "nbconvert_exporter": "python",
   "pygments_lexer": "ipython3",
   "version": "3.9.12"
  }
 },
 "nbformat": 4,
 "nbformat_minor": 5
}
